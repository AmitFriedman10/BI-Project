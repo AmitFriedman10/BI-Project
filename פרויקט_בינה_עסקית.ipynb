{
  "nbformat": 4,
  "nbformat_minor": 0,
  "metadata": {
    "colab": {
      "provenance": [],
      "authorship_tag": "ABX9TyMkgd+KmhXXKMfkLFbTPSQG",
      "include_colab_link": true
    },
    "kernelspec": {
      "name": "python3",
      "display_name": "Python 3"
    },
    "language_info": {
      "name": "python"
    }
  },
  "cells": [
    {
      "cell_type": "markdown",
      "metadata": {
        "id": "view-in-github",
        "colab_type": "text"
      },
      "source": [
        "<a href=\"https://colab.research.google.com/github/AmitFriedman10/BI-Project/blob/main/%D7%A4%D7%A8%D7%95%D7%99%D7%A7%D7%98_%D7%91%D7%99%D7%A0%D7%94_%D7%A2%D7%A1%D7%A7%D7%99%D7%AA.ipynb\" target=\"_parent\"><img src=\"https://colab.research.google.com/assets/colab-badge.svg\" alt=\"Open In Colab\"/></a>"
      ]
    },
    {
      "cell_type": "code",
      "execution_count": null,
      "metadata": {
        "id": "7vFl7ERZgS_W"
      },
      "outputs": [],
      "source": [
        "import pandas as pd \n",
        "import csv"
      ]
    },
    {
      "cell_type": "code",
      "source": [
        "df = pd.read_csv(\"table1.csv\")"
      ],
      "metadata": {
        "id": "4StT_7FRgcj-"
      },
      "execution_count": null,
      "outputs": []
    },
    {
      "cell_type": "code",
      "source": [
        "df.head()\n"
      ],
      "metadata": {
        "colab": {
          "base_uri": "https://localhost:8080/",
          "height": 371
        },
        "id": "Kuqd-RWtgxiF",
        "outputId": "49c7025b-418c-4aa0-e9bc-21e21a2e251b"
      },
      "execution_count": null,
      "outputs": [
        {
          "output_type": "execute_result",
          "data": {
            "text/plain": [
              "                                             name         director  \\\n",
              "0                                     The Shining  Stanley Kubrick   \n",
              "1                                 The Blue Lagoon   Randal Kleiser   \n",
              "2  Star Wars: Episode V - The Empire Strikes Back   Irvin Kershner   \n",
              "3                                       Airplane!     Jim Abrahams   \n",
              "4                                      Caddyshack     Harold Ramis   \n",
              "\n",
              "                    writer            star         country      budget  \\\n",
              "0             Stephen King  Jack Nicholson  United Kingdom  19000000.0   \n",
              "1  Henry De Vere Stacpoole  Brooke Shields   United States   4500000.0   \n",
              "2           Leigh Brackett     Mark Hamill   United States  18000000.0   \n",
              "3             Jim Abrahams     Robert Hays   United States   3500000.0   \n",
              "4       Brian Doyle-Murray     Chevy Chase   United States   6000000.0   \n",
              "\n",
              "         gross             company  runtime  \n",
              "0   46998772.0        Warner Bros.    146.0  \n",
              "1   58853106.0   Columbia Pictures    104.0  \n",
              "2  538375067.0           Lucasfilm    124.0  \n",
              "3   83453539.0  Paramount Pictures     88.0  \n",
              "4   39846344.0      Orion Pictures     98.0  "
            ],
            "text/html": [
              "\n",
              "  <div id=\"df-4eb333df-4106-4d9b-a7e8-eede5d2bb1f1\">\n",
              "    <div class=\"colab-df-container\">\n",
              "      <div>\n",
              "<style scoped>\n",
              "    .dataframe tbody tr th:only-of-type {\n",
              "        vertical-align: middle;\n",
              "    }\n",
              "\n",
              "    .dataframe tbody tr th {\n",
              "        vertical-align: top;\n",
              "    }\n",
              "\n",
              "    .dataframe thead th {\n",
              "        text-align: right;\n",
              "    }\n",
              "</style>\n",
              "<table border=\"1\" class=\"dataframe\">\n",
              "  <thead>\n",
              "    <tr style=\"text-align: right;\">\n",
              "      <th></th>\n",
              "      <th>name</th>\n",
              "      <th>director</th>\n",
              "      <th>writer</th>\n",
              "      <th>star</th>\n",
              "      <th>country</th>\n",
              "      <th>budget</th>\n",
              "      <th>gross</th>\n",
              "      <th>company</th>\n",
              "      <th>runtime</th>\n",
              "    </tr>\n",
              "  </thead>\n",
              "  <tbody>\n",
              "    <tr>\n",
              "      <th>0</th>\n",
              "      <td>The Shining</td>\n",
              "      <td>Stanley Kubrick</td>\n",
              "      <td>Stephen King</td>\n",
              "      <td>Jack Nicholson</td>\n",
              "      <td>United Kingdom</td>\n",
              "      <td>19000000.0</td>\n",
              "      <td>46998772.0</td>\n",
              "      <td>Warner Bros.</td>\n",
              "      <td>146.0</td>\n",
              "    </tr>\n",
              "    <tr>\n",
              "      <th>1</th>\n",
              "      <td>The Blue Lagoon</td>\n",
              "      <td>Randal Kleiser</td>\n",
              "      <td>Henry De Vere Stacpoole</td>\n",
              "      <td>Brooke Shields</td>\n",
              "      <td>United States</td>\n",
              "      <td>4500000.0</td>\n",
              "      <td>58853106.0</td>\n",
              "      <td>Columbia Pictures</td>\n",
              "      <td>104.0</td>\n",
              "    </tr>\n",
              "    <tr>\n",
              "      <th>2</th>\n",
              "      <td>Star Wars: Episode V - The Empire Strikes Back</td>\n",
              "      <td>Irvin Kershner</td>\n",
              "      <td>Leigh Brackett</td>\n",
              "      <td>Mark Hamill</td>\n",
              "      <td>United States</td>\n",
              "      <td>18000000.0</td>\n",
              "      <td>538375067.0</td>\n",
              "      <td>Lucasfilm</td>\n",
              "      <td>124.0</td>\n",
              "    </tr>\n",
              "    <tr>\n",
              "      <th>3</th>\n",
              "      <td>Airplane!</td>\n",
              "      <td>Jim Abrahams</td>\n",
              "      <td>Jim Abrahams</td>\n",
              "      <td>Robert Hays</td>\n",
              "      <td>United States</td>\n",
              "      <td>3500000.0</td>\n",
              "      <td>83453539.0</td>\n",
              "      <td>Paramount Pictures</td>\n",
              "      <td>88.0</td>\n",
              "    </tr>\n",
              "    <tr>\n",
              "      <th>4</th>\n",
              "      <td>Caddyshack</td>\n",
              "      <td>Harold Ramis</td>\n",
              "      <td>Brian Doyle-Murray</td>\n",
              "      <td>Chevy Chase</td>\n",
              "      <td>United States</td>\n",
              "      <td>6000000.0</td>\n",
              "      <td>39846344.0</td>\n",
              "      <td>Orion Pictures</td>\n",
              "      <td>98.0</td>\n",
              "    </tr>\n",
              "  </tbody>\n",
              "</table>\n",
              "</div>\n",
              "      <button class=\"colab-df-convert\" onclick=\"convertToInteractive('df-4eb333df-4106-4d9b-a7e8-eede5d2bb1f1')\"\n",
              "              title=\"Convert this dataframe to an interactive table.\"\n",
              "              style=\"display:none;\">\n",
              "        \n",
              "  <svg xmlns=\"http://www.w3.org/2000/svg\" height=\"24px\"viewBox=\"0 0 24 24\"\n",
              "       width=\"24px\">\n",
              "    <path d=\"M0 0h24v24H0V0z\" fill=\"none\"/>\n",
              "    <path d=\"M18.56 5.44l.94 2.06.94-2.06 2.06-.94-2.06-.94-.94-2.06-.94 2.06-2.06.94zm-11 1L8.5 8.5l.94-2.06 2.06-.94-2.06-.94L8.5 2.5l-.94 2.06-2.06.94zm10 10l.94 2.06.94-2.06 2.06-.94-2.06-.94-.94-2.06-.94 2.06-2.06.94z\"/><path d=\"M17.41 7.96l-1.37-1.37c-.4-.4-.92-.59-1.43-.59-.52 0-1.04.2-1.43.59L10.3 9.45l-7.72 7.72c-.78.78-.78 2.05 0 2.83L4 21.41c.39.39.9.59 1.41.59.51 0 1.02-.2 1.41-.59l7.78-7.78 2.81-2.81c.8-.78.8-2.07 0-2.86zM5.41 20L4 18.59l7.72-7.72 1.47 1.35L5.41 20z\"/>\n",
              "  </svg>\n",
              "      </button>\n",
              "      \n",
              "  <style>\n",
              "    .colab-df-container {\n",
              "      display:flex;\n",
              "      flex-wrap:wrap;\n",
              "      gap: 12px;\n",
              "    }\n",
              "\n",
              "    .colab-df-convert {\n",
              "      background-color: #E8F0FE;\n",
              "      border: none;\n",
              "      border-radius: 50%;\n",
              "      cursor: pointer;\n",
              "      display: none;\n",
              "      fill: #1967D2;\n",
              "      height: 32px;\n",
              "      padding: 0 0 0 0;\n",
              "      width: 32px;\n",
              "    }\n",
              "\n",
              "    .colab-df-convert:hover {\n",
              "      background-color: #E2EBFA;\n",
              "      box-shadow: 0px 1px 2px rgba(60, 64, 67, 0.3), 0px 1px 3px 1px rgba(60, 64, 67, 0.15);\n",
              "      fill: #174EA6;\n",
              "    }\n",
              "\n",
              "    [theme=dark] .colab-df-convert {\n",
              "      background-color: #3B4455;\n",
              "      fill: #D2E3FC;\n",
              "    }\n",
              "\n",
              "    [theme=dark] .colab-df-convert:hover {\n",
              "      background-color: #434B5C;\n",
              "      box-shadow: 0px 1px 3px 1px rgba(0, 0, 0, 0.15);\n",
              "      filter: drop-shadow(0px 1px 2px rgba(0, 0, 0, 0.3));\n",
              "      fill: #FFFFFF;\n",
              "    }\n",
              "  </style>\n",
              "\n",
              "      <script>\n",
              "        const buttonEl =\n",
              "          document.querySelector('#df-4eb333df-4106-4d9b-a7e8-eede5d2bb1f1 button.colab-df-convert');\n",
              "        buttonEl.style.display =\n",
              "          google.colab.kernel.accessAllowed ? 'block' : 'none';\n",
              "\n",
              "        async function convertToInteractive(key) {\n",
              "          const element = document.querySelector('#df-4eb333df-4106-4d9b-a7e8-eede5d2bb1f1');\n",
              "          const dataTable =\n",
              "            await google.colab.kernel.invokeFunction('convertToInteractive',\n",
              "                                                     [key], {});\n",
              "          if (!dataTable) return;\n",
              "\n",
              "          const docLinkHtml = 'Like what you see? Visit the ' +\n",
              "            '<a target=\"_blank\" href=https://colab.research.google.com/notebooks/data_table.ipynb>data table notebook</a>'\n",
              "            + ' to learn more about interactive tables.';\n",
              "          element.innerHTML = '';\n",
              "          dataTable['output_type'] = 'display_data';\n",
              "          await google.colab.output.renderOutput(dataTable, element);\n",
              "          const docLink = document.createElement('div');\n",
              "          docLink.innerHTML = docLinkHtml;\n",
              "          element.appendChild(docLink);\n",
              "        }\n",
              "      </script>\n",
              "    </div>\n",
              "  </div>\n",
              "  "
            ]
          },
          "metadata": {},
          "execution_count": 56
        }
      ]
    },
    {
      "cell_type": "code",
      "source": [
        "class ETL:\n",
        "\n",
        "    def __init__(self, source, destination, transform=None, mapping=None):\n",
        "        self.source = source\n",
        "        self.destination = destination\n",
        "        self.transform = transform\n",
        "        self.mapping = mapping\n",
        "\n",
        "    def process(self):\n",
        "        data = pd.read_csv(self.source)\n",
        "\n",
        "        if self.transform is not None:\n",
        "            data = self.transform(data)\n",
        "\n",
        "        if self.mapping is not None:\n",
        "            data = data.map(self.mapping)\n",
        "\n",
        "        data.to_csv(self.destination, index=False)\n",
        "\n",
        "    def add_source(self, source):\n",
        "        self.source = source\n",
        "\n",
        "    def add_destination(self, destination):\n",
        "        self.destination = destination\n",
        "\n",
        "    def add_transform(self, transform):\n",
        "        self.transform = transform\n",
        "\n",
        "    def add_mapping(self, mapping):\n",
        "        self.mapping = mapping\n"
      ],
      "metadata": {
        "id": "ofoBpn2J91zf"
      },
      "execution_count": null,
      "outputs": []
    },
    {
      "cell_type": "code",
      "source": [
        "etl = ETL('table1.csv', 'destination.csv')\n",
        "\n"
      ],
      "metadata": {
        "id": "_hd_yJ-6CgoM"
      },
      "execution_count": null,
      "outputs": []
    },
    {
      "cell_type": "code",
      "source": [
        "etl.process()\n"
      ],
      "metadata": {
        "id": "9P8fJkTbPAq4"
      },
      "execution_count": null,
      "outputs": []
    },
    {
      "cell_type": "code",
      "source": [
        "grouped = df.groupby(['name', 'budget'])"
      ],
      "metadata": {
        "id": "QZjca6hBQKm1"
      },
      "execution_count": null,
      "outputs": []
    },
    {
      "cell_type": "code",
      "source": [
        "aggregated = grouped.agg({'country': 'first','country': 'last'})\n"
      ],
      "metadata": {
        "id": "b6N-m1juVmdl"
      },
      "execution_count": null,
      "outputs": []
    }
  ]
}